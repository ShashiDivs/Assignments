{
 "cells": [
  {
   "cell_type": "markdown",
   "id": "5551ff17",
   "metadata": {},
   "source": [
    "#                                                       ASSIGNMENT-1"
   ]
  },
  {
   "cell_type": "markdown",
   "id": "aaf426ac",
   "metadata": {},
   "source": [
    "1.In the below elements which of them are values or an expression? \n",
    "eg:- values can be integer or string and expressions will be mathematical operators."
   ]
  },
  {
   "cell_type": "markdown",
   "id": "f0054339",
   "metadata": {},
   "source": [
    "*\n",
    "#This is an expression\n",
    "\n",
    "'hello'\n",
    "#Hello is a value\n",
    "\n",
    "-87.8\n",
    "#This is a value\n",
    "\n",
    "- \n",
    "#This is an expression\n",
    "\n",
    "/ \n",
    "#This is an expression\n",
    "\n",
    "+\n",
    "#This is an expression\n",
    "\n",
    "6 \n",
    "#This is a value"
   ]
  },
  {
   "cell_type": "markdown",
   "id": "81b06a10",
   "metadata": {},
   "source": [
    "2.What is the difference between string and variable?"
   ]
  },
  {
   "cell_type": "markdown",
   "id": "38e44232",
   "metadata": {},
   "source": [
    "variable is an element can store the any type of values whereas string is a value which can be defined within the quotation mark"
   ]
  },
  {
   "cell_type": "markdown",
   "id": "1c443bca",
   "metadata": {},
   "source": [
    "3.Describe three different data types."
   ]
  },
  {
   "cell_type": "markdown",
   "id": "696f2785",
   "metadata": {},
   "source": [
    "Integer    eg. 6,7,8,-4\n",
    "\n",
    "Float      eg. 9.8,345.7\n",
    "\n",
    "String     eg. “shashi”, “iNeuron”"
   ]
  },
  {
   "cell_type": "markdown",
   "id": "e9ebde79",
   "metadata": {},
   "source": [
    "4.What is an expression made up of? What do all expressions do?"
   ]
  },
  {
   "cell_type": "markdown",
   "id": "4cfb19ef",
   "metadata": {},
   "source": [
    "Expression is in programming languages not easy to define but all the varibles and functions hold some values. so the expression is used for how those values could be interpreted to produce some othe values with using various operators and operands."
   ]
  },
  {
   "cell_type": "markdown",
   "id": "48ac5ec3",
   "metadata": {},
   "source": [
    "5.This assignment statements, like spam = 10. What is the difference between an expression and a statement?"
   ]
  },
  {
   "cell_type": "markdown",
   "id": "f4096b3b",
   "metadata": {},
   "source": [
    "spam =10 is a statement which holds some value and displaying it in the form of value, the other hand expression tries to evaluate the statement"
   ]
  },
  {
   "cell_type": "markdown",
   "id": "e51dfc24",
   "metadata": {},
   "source": [
    "6.After running the following code, what does the variable bacon contain?"
   ]
  },
  {
   "cell_type": "code",
   "execution_count": 1,
   "id": "8861af27",
   "metadata": {},
   "outputs": [
    {
     "data": {
      "text/plain": [
       "23"
      ]
     },
     "execution_count": 1,
     "metadata": {},
     "output_type": "execute_result"
    }
   ],
   "source": [
    "bacon = 22\n",
    "bacon + 1"
   ]
  },
  {
   "cell_type": "markdown",
   "id": "b7de2bfb",
   "metadata": {},
   "source": [
    "bacon is a variable which earlier contains 22 and later it added with 1 then evantually bacon contains 23 integer value"
   ]
  },
  {
   "cell_type": "markdown",
   "id": "59182c7d",
   "metadata": {},
   "source": [
    "7.What should the values of the following two terms be?"
   ]
  },
  {
   "cell_type": "code",
   "execution_count": 2,
   "id": "090d4602",
   "metadata": {},
   "outputs": [
    {
     "data": {
      "text/plain": [
       "'spamspamspam'"
      ]
     },
     "execution_count": 2,
     "metadata": {},
     "output_type": "execute_result"
    }
   ],
   "source": [
    "'spam' + 'spamspam'\n",
    "'spam' * 3"
   ]
  },
  {
   "cell_type": "markdown",
   "id": "ea7ffd72",
   "metadata": {},
   "source": [
    "above in both incidents the same result as 'spamspamspam'"
   ]
  },
  {
   "cell_type": "markdown",
   "id": "4f4bc198",
   "metadata": {},
   "source": [
    "8.Why is eggs a valid variable name while 100 is invalid?"
   ]
  },
  {
   "cell_type": "markdown",
   "id": "08c888d0",
   "metadata": {},
   "source": [
    "the idea behind numeric numbers not using as variable is not mnemonic onething and the other thing is the identification must be \n",
    "with the letters so eggs are worth to identify as the variable rather than 100"
   ]
  },
  {
   "cell_type": "markdown",
   "id": "ab683e59",
   "metadata": {},
   "source": [
    "9.What three functions can be used to get the integer, floating-point number, or string version of a value?"
   ]
  },
  {
   "cell_type": "markdown",
   "id": "8b78241b",
   "metadata": {},
   "source": [
    "int() float() and str()"
   ]
  },
  {
   "cell_type": "markdown",
   "id": "1b0037c0",
   "metadata": {},
   "source": [
    "10.Why does this expression cause an error? How can you fix it?"
   ]
  },
  {
   "cell_type": "code",
   "execution_count": 3,
   "id": "09f0eed3",
   "metadata": {},
   "outputs": [
    {
     "ename": "TypeError",
     "evalue": "can only concatenate str (not \"int\") to str",
     "output_type": "error",
     "traceback": [
      "\u001b[1;31m---------------------------------------------------------------------------\u001b[0m",
      "\u001b[1;31mTypeError\u001b[0m                                 Traceback (most recent call last)",
      "\u001b[1;32m~\\AppData\\Local\\Temp/ipykernel_21736/1774935878.py\u001b[0m in \u001b[0;36m<module>\u001b[1;34m\u001b[0m\n\u001b[1;32m----> 1\u001b[1;33m \u001b[1;34m'I have eaten '\u001b[0m \u001b[1;33m+\u001b[0m \u001b[1;36m99\u001b[0m \u001b[1;33m+\u001b[0m \u001b[1;34m' burritos.'\u001b[0m\u001b[1;33m\u001b[0m\u001b[1;33m\u001b[0m\u001b[0m\n\u001b[0m",
      "\u001b[1;31mTypeError\u001b[0m: can only concatenate str (not \"int\") to str"
     ]
    }
   ],
   "source": [
    "'I have eaten ' + 99 + ' burritos.'"
   ]
  },
  {
   "cell_type": "markdown",
   "id": "b71e47c7",
   "metadata": {},
   "source": [
    "Python has a strict formatting rules despite having a user friendly programming langauge \n",
    "so here we cannot concatenate string with integer so we can fix it with to change the integer into string format as below"
   ]
  },
  {
   "cell_type": "code",
   "execution_count": null,
   "id": "53b8593e",
   "metadata": {},
   "outputs": [],
   "source": [
    "'I have eaten ' + '99' + ' burritos.'"
   ]
  }
 ],
 "metadata": {
  "kernelspec": {
   "display_name": "Python 3 (ipykernel)",
   "language": "python",
   "name": "python3"
  },
  "language_info": {
   "codemirror_mode": {
    "name": "ipython",
    "version": 3
   },
   "file_extension": ".py",
   "mimetype": "text/x-python",
   "name": "python",
   "nbconvert_exporter": "python",
   "pygments_lexer": "ipython3",
   "version": "3.9.7"
  }
 },
 "nbformat": 4,
 "nbformat_minor": 5
}
