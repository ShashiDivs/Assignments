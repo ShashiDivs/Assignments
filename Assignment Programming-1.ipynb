{
 "cells": [
  {
   "cell_type": "markdown",
   "id": "7e200bdb",
   "metadata": {},
   "source": [
    "1.Write a Python program to print Hello Python?"
   ]
  },
  {
   "cell_type": "code",
   "execution_count": 1,
   "id": "bed988f2",
   "metadata": {},
   "outputs": [
    {
     "name": "stdout",
     "output_type": "stream",
     "text": [
      "Hello Python\n"
     ]
    }
   ],
   "source": [
    "print(\"Hello Python\")"
   ]
  },
  {
   "cell_type": "markdown",
   "id": "94a015fe",
   "metadata": {},
   "source": [
    "2.Write a Python program to do arithmetical operations addition and division.?"
   ]
  },
  {
   "cell_type": "code",
   "execution_count": 4,
   "id": "5d073697",
   "metadata": {},
   "outputs": [
    {
     "name": "stdout",
     "output_type": "stream",
     "text": [
      "The addition of two numbers : 30\n",
      "The division of two numbers 0.5\n"
     ]
    }
   ],
   "source": [
    "a = 10\n",
    "b = 20\n",
    "\n",
    "c = a+b\n",
    "d = a/b\n",
    "print(f\"The addition of two numbers : {c}\")\n",
    "print(\"The division of two numbers {}\".format(d))"
   ]
  },
  {
   "cell_type": "markdown",
   "id": "cf47abd2",
   "metadata": {},
   "source": [
    "3.Write a Python program to find the area of a triangle?"
   ]
  },
  {
   "cell_type": "code",
   "execution_count": 5,
   "id": "ad36407d",
   "metadata": {},
   "outputs": [
    {
     "name": "stdout",
     "output_type": "stream",
     "text": [
      "Enter the First side of the Triangle : 5\n",
      "Enter the Second side of the Triangle : 6\n",
      "Enter the Third side of the Triangle : 7\n",
      "The area of triangle is :  14.696938456699069\n"
     ]
    }
   ],
   "source": [
    "a = int(input(\"Enter the First side of the Triangle : \"))\n",
    "b = int(input(\"Enter the Second side of the Triangle : \"))\n",
    "c = int(input(\"Enter the Third side of the Triangle : \"))\n",
    "\n",
    "#p here is perimeter\n",
    "p = (a+b+c)\n",
    "#s here is semiperimeter\n",
    "s = p/2\n",
    "\n",
    "area = (s*(s-a)*(s-b)*(s-c))**0.5\n",
    "\n",
    "print(\"The area of triangle is : \",area)"
   ]
  },
  {
   "cell_type": "code",
   "execution_count": null,
   "id": "867306f0",
   "metadata": {},
   "outputs": [],
   "source": [
    "#Using Function"
   ]
  },
  {
   "cell_type": "code",
   "execution_count": 12,
   "id": "3d82fcd8",
   "metadata": {},
   "outputs": [],
   "source": [
    "def AreaofTriangle(a,b,c):\n",
    "    p = (a+b+c)\n",
    "    s = p/2\n",
    "    area = (s*(s-a)*(s-b)*(s-c))**0.5\n",
    "    return f\"The area of triangle is : {area}\""
   ]
  },
  {
   "cell_type": "code",
   "execution_count": 14,
   "id": "a78030ab",
   "metadata": {},
   "outputs": [
    {
     "name": "stdout",
     "output_type": "stream",
     "text": [
      "Enter the First side of the Triangle : 5\n",
      "Enter the Second side of the Triangle : 6\n",
      "Enter the Third side of the Triangle : 7\n"
     ]
    },
    {
     "data": {
      "text/plain": [
       "'The area of triangle is : 14.696938456699069'"
      ]
     },
     "execution_count": 14,
     "metadata": {},
     "output_type": "execute_result"
    }
   ],
   "source": [
    "a = int(input(\"Enter the First side of the Triangle : \"))\n",
    "b = int(input(\"Enter the Second side of the Triangle : \"))\n",
    "c = int(input(\"Enter the Third side of the Triangle : \"))\n",
    "AreaofTriangle(a,b,c)"
   ]
  },
  {
   "cell_type": "code",
   "execution_count": null,
   "id": "912a9e73",
   "metadata": {},
   "outputs": [],
   "source": [
    "#Using Class"
   ]
  },
  {
   "cell_type": "code",
   "execution_count": 25,
   "id": "f91a2883",
   "metadata": {},
   "outputs": [],
   "source": [
    "class AreaofTriangle:\n",
    "    def __init__(self,a,b,c):\n",
    "        self.a = a\n",
    "        self.b = b\n",
    "        self.c = c\n",
    "        \n",
    "    def AoT(self):\n",
    "        p = (self.a+self.b+self.c)\n",
    "        s = p/2\n",
    "        area = (s*(s-self.a)*(s-self.b)*(s-self.c))**0.5\n",
    "        return f\"The area of triangle is : {area}\""
   ]
  },
  {
   "cell_type": "code",
   "execution_count": 29,
   "id": "5972f92f",
   "metadata": {},
   "outputs": [
    {
     "name": "stdout",
     "output_type": "stream",
     "text": [
      "Enter the First side of the Triangle : 5\n",
      "Enter the Second side of the Triangle : 6\n",
      "Enter the Third side of the Triangle : 7\n",
      "The area of triangle is : 14.696938456699069\n"
     ]
    }
   ],
   "source": [
    "a = int(input(\"Enter the First side of the Triangle : \"))\n",
    "b = int(input(\"Enter the Second side of the Triangle : \"))\n",
    "c = int(input(\"Enter the Third side of the Triangle : \"))\n",
    "obj = AreaofTriangle(a,b,c)\n",
    "print(obj.AoT())"
   ]
  },
  {
   "cell_type": "markdown",
   "id": "f55323c0",
   "metadata": {},
   "source": [
    "4.Write a Python program to swap two variables?"
   ]
  },
  {
   "cell_type": "code",
   "execution_count": 43,
   "id": "a34b419f",
   "metadata": {},
   "outputs": [
    {
     "name": "stdout",
     "output_type": "stream",
     "text": [
      "a value is 20, b value is 10\n"
     ]
    }
   ],
   "source": [
    "a = 10\n",
    "b = 20\n",
    "\n",
    "# storing a in a temporary variable\n",
    "temp = a\n",
    "# assigning a to b\n",
    "a = b\n",
    "# storing a value into b through temp\n",
    "b = temp\n",
    "\n",
    "print(\"a value is {}, b value is {}\".format(a,b))"
   ]
  },
  {
   "cell_type": "markdown",
   "id": "8711bd30",
   "metadata": {},
   "source": [
    "5.Write a Python program to generate a random number?"
   ]
  },
  {
   "cell_type": "code",
   "execution_count": 34,
   "id": "99f608df",
   "metadata": {},
   "outputs": [],
   "source": [
    "import random"
   ]
  },
  {
   "cell_type": "code",
   "execution_count": 36,
   "id": "e4822364",
   "metadata": {},
   "outputs": [
    {
     "name": "stdout",
     "output_type": "stream",
     "text": [
      "0.6301810343474155\n"
     ]
    }
   ],
   "source": [
    "# random gives a random number here in this case\n",
    "num = random.random()\n",
    "print(num)"
   ]
  },
  {
   "cell_type": "code",
   "execution_count": 49,
   "id": "8ad7c20b",
   "metadata": {},
   "outputs": [
    {
     "name": "stdout",
     "output_type": "stream",
     "text": [
      "1.8058546408938667\n"
     ]
    }
   ],
   "source": [
    "# random.uniform gives a random floating number between 1,10 here in this case\n",
    "num = random.uniform(1,10)\n",
    "print(num)"
   ]
  },
  {
   "cell_type": "code",
   "execution_count": 48,
   "id": "0ee9446f",
   "metadata": {},
   "outputs": [
    {
     "name": "stdout",
     "output_type": "stream",
     "text": [
      "7\n"
     ]
    }
   ],
   "source": [
    "# random.randint gives a random number between 1,10 here in this case\n",
    "num = random.randint(1,10)\n",
    "print(num)"
   ]
  },
  {
   "cell_type": "code",
   "execution_count": 62,
   "id": "90ec55cd",
   "metadata": {},
   "outputs": [
    {
     "name": "stdout",
     "output_type": "stream",
     "text": [
      "Hello, shashi\n"
     ]
    }
   ],
   "source": [
    "# random.choice gives a random value from the given list\n",
    "lis = ['Hey',\"What's up\",\"Hello\",\"namaste\"]\n",
    "value = random.choice(lis)\n",
    "print(value + \", shashi\")"
   ]
  }
 ],
 "metadata": {
  "kernelspec": {
   "display_name": "Python 3 (ipykernel)",
   "language": "python",
   "name": "python3"
  },
  "language_info": {
   "codemirror_mode": {
    "name": "ipython",
    "version": 3
   },
   "file_extension": ".py",
   "mimetype": "text/x-python",
   "name": "python",
   "nbconvert_exporter": "python",
   "pygments_lexer": "ipython3",
   "version": "3.9.7"
  }
 },
 "nbformat": 4,
 "nbformat_minor": 5
}
