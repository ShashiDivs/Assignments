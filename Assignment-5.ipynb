{
 "cells": [
  {
   "cell_type": "markdown",
   "id": "62d88ccf",
   "metadata": {},
   "source": [
    "# ASSIGNMENT-5"
   ]
  },
  {
   "cell_type": "markdown",
   "id": "46ac1891",
   "metadata": {},
   "source": [
    "1.What does an empty dictionary's code look like?"
   ]
  },
  {
   "cell_type": "code",
   "execution_count": 1,
   "id": "513c50c9",
   "metadata": {},
   "outputs": [],
   "source": [
    "dic = {}"
   ]
  },
  {
   "cell_type": "code",
   "execution_count": 2,
   "id": "77dc1574",
   "metadata": {},
   "outputs": [
    {
     "data": {
      "text/plain": [
       "dict"
      ]
     },
     "execution_count": 2,
     "metadata": {},
     "output_type": "execute_result"
    }
   ],
   "source": [
    "type(dic)"
   ]
  },
  {
   "cell_type": "markdown",
   "id": "73a73d64",
   "metadata": {},
   "source": [
    "the \"Curly Braces\" in python is used for dictionary and set but if any varible declared an empty \"Curly Braces\" that indicates the dictionary type"
   ]
  },
  {
   "cell_type": "markdown",
   "id": "4ca42eec",
   "metadata": {},
   "source": [
    "2.What is the value of a dictionary value with the key 'foo' and the value 42?"
   ]
  },
  {
   "cell_type": "code",
   "execution_count": 3,
   "id": "0f28f2ba",
   "metadata": {},
   "outputs": [],
   "source": [
    "dic = {\"foo\":42}"
   ]
  },
  {
   "cell_type": "code",
   "execution_count": 4,
   "id": "09d87ced",
   "metadata": {},
   "outputs": [
    {
     "data": {
      "text/plain": [
       "{'foo': 42}"
      ]
     },
     "execution_count": 4,
     "metadata": {},
     "output_type": "execute_result"
    }
   ],
   "source": [
    "dic"
   ]
  },
  {
   "cell_type": "code",
   "execution_count": 6,
   "id": "1694de55",
   "metadata": {},
   "outputs": [
    {
     "data": {
      "text/plain": [
       "dict_keys(['foo'])"
      ]
     },
     "execution_count": 6,
     "metadata": {},
     "output_type": "execute_result"
    }
   ],
   "source": [
    "dic.keys()"
   ]
  },
  {
   "cell_type": "code",
   "execution_count": 7,
   "id": "1c3a9543",
   "metadata": {},
   "outputs": [
    {
     "data": {
      "text/plain": [
       "dict_values([42])"
      ]
     },
     "execution_count": 7,
     "metadata": {},
     "output_type": "execute_result"
    }
   ],
   "source": [
    "dic.values()"
   ]
  },
  {
   "cell_type": "markdown",
   "id": "00978671",
   "metadata": {},
   "source": [
    "we can use inbuilt methods to get the keys and values from a dictionary.."
   ]
  },
  {
   "cell_type": "markdown",
   "id": "b70e0443",
   "metadata": {},
   "source": [
    "3.What is the most significant distinction between a dictionary and a list?"
   ]
  },
  {
   "cell_type": "code",
   "execution_count": 41,
   "id": "c1c2d534",
   "metadata": {},
   "outputs": [],
   "source": [
    "l = [\"shashi\",1,3,5,(\"hello\",\"iNeuron\")]\n",
    "d = {\"Name\":\"Shashi\",\"Place\":\"Hyderabad\"}\n"
   ]
  },
  {
   "cell_type": "code",
   "execution_count": 42,
   "id": "d219a5f1",
   "metadata": {},
   "outputs": [
    {
     "data": {
      "text/plain": [
       "['shashi', 1, 3, 5, ('hello', 'iNeuron')]"
      ]
     },
     "execution_count": 42,
     "metadata": {},
     "output_type": "execute_result"
    }
   ],
   "source": [
    "l"
   ]
  },
  {
   "cell_type": "code",
   "execution_count": 43,
   "id": "fc10bc73",
   "metadata": {},
   "outputs": [
    {
     "data": {
      "text/plain": [
       "{'Name': 'Shashi', 'Place': 'Hyderabad'}"
      ]
     },
     "execution_count": 43,
     "metadata": {},
     "output_type": "execute_result"
    }
   ],
   "source": [
    "d"
   ]
  },
  {
   "cell_type": "markdown",
   "id": "6cfee05d",
   "metadata": {},
   "source": [
    "there are different data types dictionary and list are two different data types hold the data differently\n",
    "list are a inclusive data type which means it holds any other data type and arrange in indexing manner to access.\n",
    "dictionary is a data type is holding values in pair like key and value and it is an unordered data type..."
   ]
  },
  {
   "cell_type": "code",
   "execution_count": null,
   "id": "93a3cdd6",
   "metadata": {},
   "outputs": [],
   "source": [
    "4.What happens if you try to access spam['foo'] if spam is {'bar': 100}?"
   ]
  },
  {
   "cell_type": "code",
   "execution_count": 8,
   "id": "d6ad62cb",
   "metadata": {},
   "outputs": [
    {
     "ename": "KeyError",
     "evalue": "'foo'",
     "output_type": "error",
     "traceback": [
      "\u001b[1;31m---------------------------------------------------------------------------\u001b[0m",
      "\u001b[1;31mKeyError\u001b[0m                                  Traceback (most recent call last)",
      "\u001b[1;32m~\\AppData\\Local\\Temp/ipykernel_27408/414641506.py\u001b[0m in \u001b[0;36m<module>\u001b[1;34m\u001b[0m\n\u001b[0;32m      1\u001b[0m \u001b[0mspam\u001b[0m \u001b[1;33m=\u001b[0m \u001b[1;33m{\u001b[0m\u001b[1;34m'bar'\u001b[0m\u001b[1;33m:\u001b[0m \u001b[1;36m100\u001b[0m\u001b[1;33m}\u001b[0m\u001b[1;33m\u001b[0m\u001b[1;33m\u001b[0m\u001b[0m\n\u001b[1;32m----> 2\u001b[1;33m \u001b[0mspam\u001b[0m\u001b[1;33m[\u001b[0m\u001b[1;34m'foo'\u001b[0m\u001b[1;33m]\u001b[0m\u001b[1;33m\u001b[0m\u001b[1;33m\u001b[0m\u001b[0m\n\u001b[0m",
      "\u001b[1;31mKeyError\u001b[0m: 'foo'"
     ]
    }
   ],
   "source": [
    "spam = {'bar': 100}\n",
    "spam['foo']"
   ]
  },
  {
   "cell_type": "markdown",
   "id": "553136b3",
   "metadata": {},
   "source": [
    "it returns an error due to lacking of any element with named foo in the given dictionary"
   ]
  },
  {
   "cell_type": "markdown",
   "id": "86a1f03b",
   "metadata": {},
   "source": [
    "5.If a dictionary is stored in spam, what is the difference between the expressions 'cat' in spam and 'cat' in spam.keys()?"
   ]
  },
  {
   "cell_type": "code",
   "execution_count": 16,
   "id": "4c3269d9",
   "metadata": {},
   "outputs": [],
   "source": [
    "spam = {\"cat\":\"joe\",\"dog\":'butler'}"
   ]
  },
  {
   "cell_type": "code",
   "execution_count": 17,
   "id": "9ece6e2f",
   "metadata": {},
   "outputs": [
    {
     "data": {
      "text/plain": [
       "True"
      ]
     },
     "execution_count": 17,
     "metadata": {},
     "output_type": "execute_result"
    }
   ],
   "source": [
    "'cat' in spam"
   ]
  },
  {
   "cell_type": "markdown",
   "id": "fad1158d",
   "metadata": {},
   "source": [
    "when we use cat in spam so it search for all the keys in dicionary and returns the expression if searched item in the dictionary"
   ]
  },
  {
   "cell_type": "code",
   "execution_count": 18,
   "id": "4d931bdc",
   "metadata": {},
   "outputs": [
    {
     "data": {
      "text/plain": [
       "dict_keys(['cat', 'dog'])"
      ]
     },
     "execution_count": 18,
     "metadata": {},
     "output_type": "execute_result"
    }
   ],
   "source": [
    "spam.keys()"
   ]
  },
  {
   "cell_type": "code",
   "execution_count": null,
   "id": "1655ced3",
   "metadata": {},
   "outputs": [],
   "source": [
    "the keys() method returns the keys of the dictionary.."
   ]
  },
  {
   "cell_type": "markdown",
   "id": "a77fcd91",
   "metadata": {},
   "source": [
    "6.If a dictionary is stored in spam, what is the difference between the expressions 'cat' in spam and 'cat' in spam.values()?"
   ]
  },
  {
   "cell_type": "code",
   "execution_count": 13,
   "id": "318e9f38",
   "metadata": {},
   "outputs": [],
   "source": [
    "spam = {\"animal\":\"cat\",\"bird\":\"pecock\"}"
   ]
  },
  {
   "cell_type": "code",
   "execution_count": 14,
   "id": "978fd1de",
   "metadata": {},
   "outputs": [
    {
     "data": {
      "text/plain": [
       "False"
      ]
     },
     "execution_count": 14,
     "metadata": {},
     "output_type": "execute_result"
    }
   ],
   "source": [
    "'cat' in spam"
   ]
  },
  {
   "cell_type": "markdown",
   "id": "f647e680",
   "metadata": {},
   "source": [
    "in the case of values it does not return True expression due to the values attahed to keys so keys represent values... "
   ]
  },
  {
   "cell_type": "code",
   "execution_count": 15,
   "id": "5bc98884",
   "metadata": {},
   "outputs": [
    {
     "data": {
      "text/plain": [
       "dict_values(['cat', 'pecock'])"
      ]
     },
     "execution_count": 15,
     "metadata": {},
     "output_type": "execute_result"
    }
   ],
   "source": [
    "spam.values()"
   ]
  },
  {
   "cell_type": "markdown",
   "id": "882857e6",
   "metadata": {},
   "source": [
    "the values() method returns the values of the keys in the dictionary"
   ]
  },
  {
   "cell_type": "markdown",
   "id": "a327fe0d",
   "metadata": {},
   "source": [
    "7.What is a shortcut for the following code?\n",
    "if 'color' not in spam:\n",
    "    spam['color'] = 'black'\n"
   ]
  },
  {
   "cell_type": "code",
   "execution_count": 49,
   "id": "b828b1c8",
   "metadata": {},
   "outputs": [
    {
     "data": {
      "text/plain": [
       "{'paint': 'rose'}"
      ]
     },
     "execution_count": 49,
     "metadata": {},
     "output_type": "execute_result"
    }
   ],
   "source": [
    "spam = {\"paint\":\"rose\"}\n",
    "spam"
   ]
  },
  {
   "cell_type": "code",
   "execution_count": 50,
   "id": "d0582553",
   "metadata": {},
   "outputs": [
    {
     "data": {
      "text/plain": [
       "{'paint': 'rose', 'color': 'black'}"
      ]
     },
     "execution_count": 50,
     "metadata": {},
     "output_type": "execute_result"
    }
   ],
   "source": [
    "spam.update({\"color\":\"black\"})\n",
    "spam"
   ]
  },
  {
   "cell_type": "markdown",
   "id": "fc5ef0d9",
   "metadata": {},
   "source": [
    "we can use update method to insert the values.."
   ]
  },
  {
   "cell_type": "markdown",
   "id": "b9158c13",
   "metadata": {},
   "source": [
    "8.How do you \"pretty print\" dictionary values using which module and function?"
   ]
  },
  {
   "cell_type": "code",
   "execution_count": 44,
   "id": "65119c72",
   "metadata": {},
   "outputs": [],
   "source": [
    "spams = {\"Name\":\"Shashi\", \"Age\":30, \"Qualification\":[\"Mphil\",\"PhD\"],\"University\":\"JNU\",\"Passed Year\":2020,\"Subjcet\":\"Political Science\"}"
   ]
  },
  {
   "cell_type": "code",
   "execution_count": 45,
   "id": "0629f908",
   "metadata": {},
   "outputs": [
    {
     "data": {
      "text/plain": [
       "{'Name': 'Shashi',\n",
       " 'Age': 30,\n",
       " 'Qualification': ['Mphil', 'PhD'],\n",
       " 'University': 'JNU',\n",
       " 'Passed Year': 2020,\n",
       " 'Subjcet': 'Political Science'}"
      ]
     },
     "execution_count": 45,
     "metadata": {},
     "output_type": "execute_result"
    }
   ],
   "source": [
    "spams"
   ]
  },
  {
   "cell_type": "code",
   "execution_count": 46,
   "id": "1a692916",
   "metadata": {},
   "outputs": [
    {
     "name": "stdout",
     "output_type": "stream",
     "text": [
      "These are the values extracted seperately from the Dictionary:\n",
      "0 Shashi\n",
      "1 30\n",
      "2 ['Mphil', 'PhD']\n",
      "3 JNU\n",
      "4 2020\n",
      "5 Political Science\n"
     ]
    }
   ],
   "source": [
    "print(\"These are the values extracted seperately from the Dictionary:\")\n",
    "for i,k in enumerate(spams.values()):\n",
    "    print(i,k)"
   ]
  },
  {
   "cell_type": "markdown",
   "id": "fc6f4379",
   "metadata": {},
   "source": [
    "we can prettify the dictionary using enumerate and extract only values using the valuse() method..."
   ]
  }
 ],
 "metadata": {
  "kernelspec": {
   "display_name": "Python 3 (ipykernel)",
   "language": "python",
   "name": "python3"
  },
  "language_info": {
   "codemirror_mode": {
    "name": "ipython",
    "version": 3
   },
   "file_extension": ".py",
   "mimetype": "text/x-python",
   "name": "python",
   "nbconvert_exporter": "python",
   "pygments_lexer": "ipython3",
   "version": "3.9.7"
  }
 },
 "nbformat": 4,
 "nbformat_minor": 5
}
