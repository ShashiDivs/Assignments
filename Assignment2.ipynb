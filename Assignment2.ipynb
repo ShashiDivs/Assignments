{
 "cells": [
  {
   "cell_type": "markdown",
   "id": "ddb94305",
   "metadata": {},
   "source": [
    "# ASSIGNMENT-2"
   ]
  },
  {
   "cell_type": "markdown",
   "id": "31664ee7",
   "metadata": {},
   "source": [
    "1.What are the two values of the Boolean data type? How do you write them?"
   ]
  },
  {
   "cell_type": "code",
   "execution_count": 1,
   "id": "57678ddc",
   "metadata": {},
   "outputs": [
    {
     "data": {
      "text/plain": [
       "False"
      ]
     },
     "execution_count": 1,
     "metadata": {},
     "output_type": "execute_result"
    }
   ],
   "source": [
    "True and False #are two types of Bollean data types"
   ]
  },
  {
   "cell_type": "markdown",
   "id": "e31193c2",
   "metadata": {},
   "source": [
    "2.What are the three different types of Boolean operators?"
   ]
  },
  {
   "cell_type": "markdown",
   "id": "2ce26a29",
   "metadata": {},
   "source": [
    "These are the three Boolean Operators [And, Or, and Not]"
   ]
  },
  {
   "cell_type": "markdown",
   "id": "e69412c5",
   "metadata": {},
   "source": [
    "3.Make a list of each Boolean operator's truth tables (i.e. every possible combination of Boolean values for the operator and what it evaluate)."
   ]
  },
  {
   "cell_type": "code",
   "execution_count": null,
   "id": "e1ef76d2",
   "metadata": {},
   "outputs": [],
   "source": [
    "A         B        A and B     A or B    not A\n",
    "-----------------------------------------------\n",
    "False    False      False       False    True\n",
    "False    True       False       True     True\n",
    "True     False      False       True     False\n",
    "True     True       True        True     False"
   ]
  },
  {
   "cell_type": "markdown",
   "id": "19c20fcf",
   "metadata": {},
   "source": [
    "4.What are the values of the following expressions?"
   ]
  },
  {
   "cell_type": "code",
   "execution_count": null,
   "id": "bc70f8ed",
   "metadata": {},
   "outputs": [],
   "source": [
    "(5 > 4) and (3 == 5)   # this expression will result false becasue the five not greater than 4 and 3 not equal to 5"
   ]
  },
  {
   "cell_type": "code",
   "execution_count": null,
   "id": "c0c1fec1",
   "metadata": {},
   "outputs": [],
   "source": [
    "not (5 > 4)  # this expression is false due to (not is suffixed)"
   ]
  },
  {
   "cell_type": "code",
   "execution_count": null,
   "id": "4a85fb60",
   "metadata": {},
   "outputs": [],
   "source": [
    "(5 > 4) or (3 == 5) #the following expression is True becuase or operator must have any one true in the given values"
   ]
  },
  {
   "cell_type": "code",
   "execution_count": null,
   "id": "eb80ec41",
   "metadata": {},
   "outputs": [],
   "source": [
    "not ((5 > 4) or (3 == 5))  #this expression is false due to (not is suffixed )"
   ]
  },
  {
   "cell_type": "code",
   "execution_count": null,
   "id": "6aacbfa7",
   "metadata": {},
   "outputs": [],
   "source": [
    "(True and True) and (True == False) # it is false because and operator must be satisfied with two True values"
   ]
  },
  {
   "cell_type": "code",
   "execution_count": null,
   "id": "0b672a5b",
   "metadata": {},
   "outputs": [],
   "source": [
    "(not False) or (not True) # the following expression is True becuase any one of them must be True while using Or operator"
   ]
  },
  {
   "cell_type": "markdown",
   "id": "949e489b",
   "metadata": {},
   "source": [
    "5.What are the six comparison operators?"
   ]
  },
  {
   "cell_type": "code",
   "execution_count": 14,
   "id": "25da5918",
   "metadata": {},
   "outputs": [
    {
     "ename": "SyntaxError",
     "evalue": "invalid syntax (Temp/ipykernel_1208/4235067393.py, line 2)",
     "output_type": "error",
     "traceback": [
      "\u001b[1;36m  File \u001b[1;32m\"C:\\Users\\pc\\AppData\\Local\\Temp/ipykernel_1208/4235067393.py\"\u001b[1;36m, line \u001b[1;32m2\u001b[0m\n\u001b[1;33m    == \"equal\" a==b\u001b[0m\n\u001b[1;37m    ^\u001b[0m\n\u001b[1;31mSyntaxError\u001b[0m\u001b[1;31m:\u001b[0m invalid syntax\n"
     ]
    }
   ],
   "source": [
    "\"These are 6 comparision operators\"\n",
    "\n",
    "== \"equal\" a==b\n",
    "\n",
    "!= \"not equal\" a!=b\n",
    "\n",
    "> \"greater than\" a>b\n",
    "\n",
    "< \"less than\"  a<b\n",
    "\n",
    ">= \"greater than or equal to\" a>=b\n",
    "\n",
    "<= \"less than or equal to\"  a<=b"
   ]
  },
  {
   "cell_type": "markdown",
   "id": "cb1fd12d",
   "metadata": {},
   "source": [
    "6.How do you tell the difference between the equal to and assignment operators?Describe a condition and when you would use one."
   ]
  },
  {
   "cell_type": "code",
   "execution_count": null,
   "id": "e5c08cec",
   "metadata": {},
   "outputs": [],
   "source": [
    "=    x=2\n",
    "\n",
    "+=   x+=2\n",
    "\n",
    "-=   x-=2\n",
    "\n",
    "*=   x*=2\n",
    "\n",
    "/=   x/=2\n",
    "\n",
    "%=   x%=2\n",
    "\n",
    "//=  x//=2\n",
    "\n",
    "**=  x**=2\n",
    "\n",
    "&=   x&=2\n",
    "\n",
    "|=   x|=2\n",
    "\n",
    "^=   x^=2\n",
    "\n",
    ">>=  x>>=2\n",
    "\n",
    "<<=  x<<=2"
   ]
  },
  {
   "cell_type": "markdown",
   "id": "573035e6",
   "metadata": {},
   "source": [
    "7.Identify the three blocks in this code:"
   ]
  },
  {
   "cell_type": "code",
   "execution_count": 7,
   "id": "0e30832c",
   "metadata": {},
   "outputs": [
    {
     "name": "stdout",
     "output_type": "stream",
     "text": [
      "ham\n",
      "spam\n",
      "spam\n"
     ]
    }
   ],
   "source": [
    "spam = 0\n",
    "if spam == 10:\n",
    "    print('eggs')\n",
    "if spam > 5:\n",
    "    print('bacon')\n",
    "else:\n",
    "    print('ham')\n",
    "    print('spam')\n",
    "    print('spam')\n"
   ]
  },
  {
   "cell_type": "markdown",
   "id": "7889aef7",
   "metadata": {},
   "source": [
    "there are three blocks in the above code one is the first if conditions talks about the spam equal to 10\n",
    "the next one is a if else loop if contains if spam greater than 5 to print \"bacon\" the third block the else part\n",
    "if the other two blocks fails then the third block will be executed as ham spam and spam"
   ]
  },
  {
   "cell_type": "markdown",
   "id": "0eaea194",
   "metadata": {},
   "source": [
    "8.Write code that prints Hello if 1 is stored in spam, prints Howdy if 2 is stored in spam, and prints Greetings! if anything else is stored in spam."
   ]
  },
  {
   "cell_type": "code",
   "execution_count": 3,
   "id": "c15f50ee",
   "metadata": {},
   "outputs": [
    {
     "name": "stdout",
     "output_type": "stream",
     "text": [
      "Enter the number100\n",
      "Greetings!\n"
     ]
    }
   ],
   "source": [
    "spam = int(input(\"Enter the number\"))\n",
    "\n",
    "if spam == 1:\n",
    "    print(\"hello\")\n",
    "elif spam == 2:\n",
    "    print(\"howdy\")\n",
    "else:\n",
    "    print(\"Greetings!\")"
   ]
  },
  {
   "cell_type": "markdown",
   "id": "9420ccbe",
   "metadata": {},
   "source": [
    "9.If your programme is stuck in an endless loop, what keys you’ll press?"
   ]
  },
  {
   "cell_type": "code",
   "execution_count": 8,
   "id": "d91ccf38",
   "metadata": {},
   "outputs": [],
   "source": [
    "#i = 5\n",
    "#while i < 10:\n",
    "    #print(i)"
   ]
  },
  {
   "cell_type": "markdown",
   "id": "8f6f605e",
   "metadata": {},
   "source": [
    "the above loop is an infinite loop because the condition which always try to execute the code in the block so the above code has no end but interate the loop perpetually....to stop the loop we can press any key \n"
   ]
  },
  {
   "cell_type": "markdown",
   "id": "b1b2b9af",
   "metadata": {},
   "source": [
    "10.How can you tell the difference between break and continue?"
   ]
  },
  {
   "cell_type": "code",
   "execution_count": 9,
   "id": "318d133e",
   "metadata": {},
   "outputs": [
    {
     "name": "stdout",
     "output_type": "stream",
     "text": [
      "0\n",
      "1\n",
      "2\n",
      "3\n",
      "4\n",
      "Continue : 5\n",
      "6\n",
      "Break: 7\n"
     ]
    }
   ],
   "source": [
    "for i in range(10):\n",
    "    if i == 5:\n",
    "        print(\"Continue :\",i)\n",
    "        continue\n",
    "    elif i > 6:\n",
    "        print(\"Break:\", i)\n",
    "        break\n",
    "    else:\n",
    "        print(i)"
   ]
  },
  {
   "cell_type": "markdown",
   "id": "65608239",
   "metadata": {},
   "source": [
    "the break statement stop the loop while the continue statement skip the iteration wherever the conditions is given in the above example when i == 5 so the 5 skipped and if i > 6 then the whole loop is terminated with using break.."
   ]
  },
  {
   "cell_type": "markdown",
   "id": "1c96e858",
   "metadata": {},
   "source": [
    "11.In a for loop, what is the difference between range(10), range(0, 10), and range(0, 10, 1)?"
   ]
  },
  {
   "cell_type": "code",
   "execution_count": 16,
   "id": "662d9ed9",
   "metadata": {},
   "outputs": [],
   "source": [
    "for i in range(10):\n",
    "    print(i)"
   ]
  },
  {
   "cell_type": "code",
   "execution_count": null,
   "id": "c81f764b",
   "metadata": {},
   "outputs": [],
   "source": [
    "for i in range(0,10):\n",
    "    print(i)"
   ]
  },
  {
   "cell_type": "code",
   "execution_count": null,
   "id": "94aa3647",
   "metadata": {},
   "outputs": [],
   "source": [
    "for i in range(0,10,1):\n",
    "    print(i)"
   ]
  },
  {
   "cell_type": "markdown",
   "id": "cae9d014",
   "metadata": {},
   "source": [
    "the above programmes exexute the same result the range function returns the sequential order of number which are given in the function range(10) executes 0-9, range(0,10) also executes 0-9 and range(0,10,1) executes the same 0-9 becuase it takes 0 and print till 9 with the jumping order of 1 so 0-9 will be printed"
   ]
  },
  {
   "cell_type": "markdown",
   "id": "8e4b03be",
   "metadata": {},
   "source": [
    "12.Write a short program that prints the numbers 1 to 10 using a for loop. Then write an equivalent program that prints the numbers 1 to 10 using a while loop."
   ]
  },
  {
   "cell_type": "code",
   "execution_count": 5,
   "id": "2a5f8c23",
   "metadata": {},
   "outputs": [
    {
     "name": "stdout",
     "output_type": "stream",
     "text": [
      "1\n",
      "2\n",
      "3\n",
      "4\n",
      "5\n",
      "6\n",
      "7\n",
      "8\n",
      "9\n",
      "10\n"
     ]
    }
   ],
   "source": [
    "for i in range(1,11):\n",
    "    print(i)"
   ]
  },
  {
   "cell_type": "code",
   "execution_count": 7,
   "id": "efb3f83b",
   "metadata": {},
   "outputs": [
    {
     "name": "stdout",
     "output_type": "stream",
     "text": [
      "1\n",
      "2\n",
      "3\n",
      "4\n",
      "5\n",
      "6\n",
      "7\n",
      "8\n",
      "9\n",
      "10\n"
     ]
    }
   ],
   "source": [
    "nums = 1\n",
    "while nums<11:\n",
    "    print(nums)\n",
    "    nums =nums+1"
   ]
  },
  {
   "cell_type": "markdown",
   "id": "83a4c3f8",
   "metadata": {},
   "source": [
    "13.If you had a function named bacon() inside a module named spam, how would you call it after importing spam?"
   ]
  },
  {
   "cell_type": "code",
   "execution_count": null,
   "id": "bb0d7f7f",
   "metadata": {},
   "outputs": [],
   "source": [
    "from spam import bacon"
   ]
  }
 ],
 "metadata": {
  "kernelspec": {
   "display_name": "Python 3 (ipykernel)",
   "language": "python",
   "name": "python3"
  },
  "language_info": {
   "codemirror_mode": {
    "name": "ipython",
    "version": 3
   },
   "file_extension": ".py",
   "mimetype": "text/x-python",
   "name": "python",
   "nbconvert_exporter": "python",
   "pygments_lexer": "ipython3",
   "version": "3.9.7"
  }
 },
 "nbformat": 4,
 "nbformat_minor": 5
}
