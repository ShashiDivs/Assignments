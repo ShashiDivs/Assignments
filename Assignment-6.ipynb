{
 "cells": [
  {
   "cell_type": "markdown",
   "id": "db194b87",
   "metadata": {},
   "source": [
    "# ASSIGNMENT-6"
   ]
  },
  {
   "cell_type": "markdown",
   "id": "572af216",
   "metadata": {},
   "source": [
    "1.What are escape characters, and how do you use them?"
   ]
  },
  {
   "cell_type": "markdown",
   "id": "91ad6646",
   "metadata": {},
   "source": [
    "the following are escape characters...\n",
    "\\,  \\\\,  \\n, \\r, \\t, \\b, \\f, \\ooo, \\xhh"
   ]
  },
  {
   "cell_type": "code",
   "execution_count": 27,
   "id": "12e59c61",
   "metadata": {},
   "outputs": [
    {
     "name": "stdout",
     "output_type": "stream",
     "text": [
      "I am learning Python and it's my passion to learn\n"
     ]
    }
   ],
   "source": [
    "a = 'I am learning Python and it\\'s my passion to learn'\n",
    "print(a)"
   ]
  },
  {
   "cell_type": "code",
   "execution_count": 28,
   "id": "3c5282f9",
   "metadata": {},
   "outputs": [
    {
     "name": "stdout",
     "output_type": "stream",
     "text": [
      "I am learning Python at \\ (iNeuron).\n"
     ]
    }
   ],
   "source": [
    "a = \"I am learning Python at \\\\ (iNeuron).\"\n",
    "print(a)"
   ]
  },
  {
   "cell_type": "code",
   "execution_count": 26,
   "id": "d8a02764",
   "metadata": {},
   "outputs": [
    {
     "name": "stdout",
     "output_type": "stream",
     "text": [
      "Iam\n",
      "Learning\n",
      "Python\n",
      "in\n",
      "iNeuron\n"
     ]
    }
   ],
   "source": [
    "an = \"Iam\\nLearning\\nPython\\nin\\niNeuron\"\n",
    "print(an)"
   ]
  },
  {
   "cell_type": "code",
   "execution_count": 31,
   "id": "ab7159bc",
   "metadata": {},
   "outputs": [
    {
     "name": "stdout",
     "output_type": "stream",
     "text": [
      "Python\n"
     ]
    }
   ],
   "source": [
    "anr = \"Iam\\rLearning\\rPython\"\n",
    "print(anr)"
   ]
  },
  {
   "cell_type": "code",
   "execution_count": 32,
   "id": "86146034",
   "metadata": {},
   "outputs": [
    {
     "name": "stdout",
     "output_type": "stream",
     "text": [
      "Iam\tLearning\tPython\tin\tiNeuron\n"
     ]
    }
   ],
   "source": [
    "ant = \"Iam\\tLearning\\tPython\\tin\\tiNeuron\"\n",
    "print(ant)"
   ]
  },
  {
   "cell_type": "code",
   "execution_count": 36,
   "id": "30cfdd80",
   "metadata": {},
   "outputs": [
    {
     "name": "stdout",
     "output_type": "stream",
     "text": [
      "Iam \bShashi\n"
     ]
    }
   ],
   "source": [
    "ane = \"Iam \\bShashi\"\n",
    "print(ane)"
   ]
  },
  {
   "cell_type": "code",
   "execution_count": 4,
   "id": "2a7b8f11",
   "metadata": {},
   "outputs": [
    {
     "name": "stdout",
     "output_type": "stream",
     "text": [
      "Hello\n"
     ]
    }
   ],
   "source": [
    "aoct = \"\\110\\145\\154\\154\\157\"\n",
    "print(aoct) "
   ]
  },
  {
   "cell_type": "code",
   "execution_count": 8,
   "id": "537c37e0",
   "metadata": {},
   "outputs": [
    {
     "name": "stdout",
     "output_type": "stream",
     "text": [
      "Hello\n"
     ]
    }
   ],
   "source": [
    "ahex = \"\\x48\\x65\\x6c\\x6c\\x6f\"\n",
    "print(ahex) "
   ]
  },
  {
   "cell_type": "markdown",
   "id": "a3fc1a7b",
   "metadata": {},
   "source": [
    "2.What do the escape characters n and t stand for?"
   ]
  },
  {
   "cell_type": "code",
   "execution_count": 2,
   "id": "58a3b14e",
   "metadata": {},
   "outputs": [
    {
     "name": "stdout",
     "output_type": "stream",
     "text": [
      "Iam\n",
      "Learning\n",
      "Python\n",
      "in\n",
      "iNeuron\n"
     ]
    }
   ],
   "source": [
    "an = \"Iam\\nLearning\\nPython\\nin\\niNeuron\"\n",
    "print(an)"
   ]
  },
  {
   "cell_type": "markdown",
   "id": "4bbb01b9",
   "metadata": {},
   "source": [
    "the escape character /n is used to break the line and print in next line"
   ]
  },
  {
   "cell_type": "code",
   "execution_count": 1,
   "id": "f5c707f4",
   "metadata": {},
   "outputs": [
    {
     "name": "stdout",
     "output_type": "stream",
     "text": [
      "Iam\tLearning\tPython\tin\tiNeuron\n"
     ]
    }
   ],
   "source": [
    "ant = \"Iam\\tLearning\\tPython\\tin\\tiNeuron\"\n",
    "print(ant)"
   ]
  },
  {
   "cell_type": "markdown",
   "id": "8b44623a",
   "metadata": {},
   "source": [
    "the escape character /b is used to get a tab space to print the line in a pretty manner"
   ]
  },
  {
   "cell_type": "markdown",
   "id": "e35abb4b",
   "metadata": {},
   "source": [
    "3.What is the way to include backslash characters in a string?"
   ]
  },
  {
   "cell_type": "code",
   "execution_count": 3,
   "id": "cc078f65",
   "metadata": {},
   "outputs": [
    {
     "name": "stdout",
     "output_type": "stream",
     "text": [
      "Iam \bShashi\n"
     ]
    }
   ],
   "source": [
    "ane = \"Iam \\bShashi\"\n",
    "print(ane)"
   ]
  },
  {
   "cell_type": "markdown",
   "id": "ebfdf1d7",
   "metadata": {},
   "source": [
    "the escape character /b is used to backslash the line and remove the space and combine the words."
   ]
  },
  {
   "cell_type": "markdown",
   "id": "445a303d",
   "metadata": {},
   "source": [
    "4.The string \"Howl's Moving Castle\" is a correct value. Why isn't the single quote character in the word Howl's not escaped a problem?"
   ]
  },
  {
   "cell_type": "code",
   "execution_count": 9,
   "id": "f3169d1a",
   "metadata": {},
   "outputs": [
    {
     "ename": "SyntaxError",
     "evalue": "invalid syntax (Temp/ipykernel_2124/1693136457.py, line 1)",
     "output_type": "error",
     "traceback": [
      "\u001b[1;36m  File \u001b[1;32m\"C:\\Users\\pc\\AppData\\Local\\Temp/ipykernel_2124/1693136457.py\"\u001b[1;36m, line \u001b[1;32m1\u001b[0m\n\u001b[1;33m    'Howl's Moving Castle'\u001b[0m\n\u001b[1;37m          ^\u001b[0m\n\u001b[1;31mSyntaxError\u001b[0m\u001b[1;31m:\u001b[0m invalid syntax\n"
     ]
    }
   ],
   "source": [
    "'Howl's Moving Castle' "
   ]
  },
  {
   "cell_type": "code",
   "execution_count": 10,
   "id": "f9cf5c0c",
   "metadata": {},
   "outputs": [
    {
     "data": {
      "text/plain": [
       "\"Howl's Moving Castle\""
      ]
     },
     "execution_count": 10,
     "metadata": {},
     "output_type": "execute_result"
    }
   ],
   "source": [
    "\"Howl's Moving Castle\""
   ]
  },
  {
   "cell_type": "markdown",
   "id": "c29f992e",
   "metadata": {},
   "source": [
    "python is a sensitive programming langauge follow certain protocols. when we write a string with apostrophe which should not even contain any apostrophe's inside a string that's the reason above shows the SyntaxError when we use an apostrophe then we should use \"\" or \"\"\"\"\"\" to avoid the SyntaxError........"
   ]
  },
  {
   "cell_type": "markdown",
   "id": "051c295e",
   "metadata": {},
   "source": [
    "5.How do you write a string of newlines if you don't want to use the n character?"
   ]
  },
  {
   "cell_type": "markdown",
   "id": "97ea26dc",
   "metadata": {},
   "source": [
    "6.What are the values of the given expressions?"
   ]
  },
  {
   "cell_type": "code",
   "execution_count": 47,
   "id": "e836df45",
   "metadata": {},
   "outputs": [
    {
     "name": "stdout",
     "output_type": "stream",
     "text": [
      "S\n",
      "H\n",
      "A\n",
      "S\n",
      "H\n",
      "I\n",
      " \n",
      "I\n",
      "S\n",
      " \n",
      "L\n",
      "E\n",
      "A\n",
      "R\n",
      "N\n",
      "I\n",
      "N\n",
      "G\n",
      " \n",
      "P\n",
      "Y\n",
      "T\n",
      "H\n",
      "O\n",
      "N\n"
     ]
    }
   ],
   "source": [
    "lss = \"shashi is learning python\"\n",
    "for i in lss:\n",
    "    print(i.upper())"
   ]
  },
  {
   "cell_type": "code",
   "execution_count": 1,
   "id": "c8d2c6db",
   "metadata": {},
   "outputs": [
    {
     "data": {
      "text/plain": [
       "'e'"
      ]
     },
     "execution_count": 1,
     "metadata": {},
     "output_type": "execute_result"
    }
   ],
   "source": [
    "'Hello, world!'[1]"
   ]
  },
  {
   "cell_type": "markdown",
   "id": "31b19b81",
   "metadata": {},
   "source": [
    "the above slicing operation it can able to extract the word which is being placed in the index of [1] "
   ]
  },
  {
   "cell_type": "code",
   "execution_count": 2,
   "id": "f8c6ba7f",
   "metadata": {},
   "outputs": [
    {
     "data": {
      "text/plain": [
       "'Hello'"
      ]
     },
     "execution_count": 2,
     "metadata": {},
     "output_type": "execute_result"
    }
   ],
   "source": [
    "'Hello, world!'[0:5]"
   ]
  },
  {
   "cell_type": "markdown",
   "id": "da135e6a",
   "metadata": {},
   "source": [
    "the total string is consisting of some of the words when we need to slice the string we can use [:::] the slicing method to extract the exact words in this case [0:5] it starts with 0 and till 5 so we can able to extract Hello by given the slice operation."
   ]
  },
  {
   "cell_type": "code",
   "execution_count": 3,
   "id": "7531f746",
   "metadata": {},
   "outputs": [
    {
     "data": {
      "text/plain": [
       "'Hello'"
      ]
     },
     "execution_count": 3,
     "metadata": {},
     "output_type": "execute_result"
    }
   ],
   "source": [
    "'Hello, world!'[:5]"
   ]
  },
  {
   "cell_type": "markdown",
   "id": "0e59a79a",
   "metadata": {},
   "source": [
    "it is the same as we have seen above operation when we not indicating the start value it can take from the zero so we can have the same result as Hello"
   ]
  },
  {
   "cell_type": "code",
   "execution_count": 4,
   "id": "2fb49839",
   "metadata": {},
   "outputs": [
    {
     "data": {
      "text/plain": [
       "'lo, world!'"
      ]
     },
     "execution_count": 4,
     "metadata": {},
     "output_type": "execute_result"
    }
   ],
   "source": [
    "'Hello, world!'[3:]"
   ]
  },
  {
   "cell_type": "markdown",
   "id": "914c5141",
   "metadata": {},
   "source": [
    "in this case we start from the index of 3 then we are not giving the upperbound so it will print all the words after index of 3"
   ]
  },
  {
   "cell_type": "markdown",
   "id": "039d9123",
   "metadata": {},
   "source": [
    "7.What are the values of the following expressions?"
   ]
  },
  {
   "cell_type": "code",
   "execution_count": 5,
   "id": "f5372f00",
   "metadata": {},
   "outputs": [
    {
     "data": {
      "text/plain": [
       "'HELLO'"
      ]
     },
     "execution_count": 5,
     "metadata": {},
     "output_type": "execute_result"
    }
   ],
   "source": [
    "'Hello'.upper()"
   ]
  },
  {
   "cell_type": "markdown",
   "id": "73b063f3",
   "metadata": {},
   "source": [
    "when we use the upper() method the given string will be converted into uppercase"
   ]
  },
  {
   "cell_type": "code",
   "execution_count": 6,
   "id": "eb2587e7",
   "metadata": {},
   "outputs": [
    {
     "data": {
      "text/plain": [
       "True"
      ]
     },
     "execution_count": 6,
     "metadata": {},
     "output_type": "execute_result"
    }
   ],
   "source": [
    "'Hello'.upper().isupper()"
   ]
  },
  {
   "cell_type": "markdown",
   "id": "0da03488",
   "metadata": {},
   "source": [
    "this will check whether the method is upper case or not and return the boolean expression as True in this case"
   ]
  },
  {
   "cell_type": "code",
   "execution_count": 7,
   "id": "2b2c2153",
   "metadata": {},
   "outputs": [
    {
     "data": {
      "text/plain": [
       "'hello'"
      ]
     },
     "execution_count": 7,
     "metadata": {},
     "output_type": "execute_result"
    }
   ],
   "source": [
    "'Hello'.upper().lower()"
   ]
  },
  {
   "cell_type": "markdown",
   "id": "45d51d86",
   "metadata": {},
   "source": [
    "here in this case first the string will convert into upper then lower and return the lower case"
   ]
  },
  {
   "cell_type": "markdown",
   "id": "9bfc27a7",
   "metadata": {},
   "source": [
    "8.What are the values of the following expressions?"
   ]
  },
  {
   "cell_type": "code",
   "execution_count": 8,
   "id": "9f5d1a65",
   "metadata": {},
   "outputs": [
    {
     "data": {
      "text/plain": [
       "['Remember,', 'remember,', 'the', 'fifth', 'of', 'July.']"
      ]
     },
     "execution_count": 8,
     "metadata": {},
     "output_type": "execute_result"
    }
   ],
   "source": [
    "'Remember, remember, the fifth of July.'.split()"
   ]
  },
  {
   "cell_type": "markdown",
   "id": "98a91653",
   "metadata": {},
   "source": [
    "the above string sentence is a one line string with seperated by commas when we use split() function it will fragment the sentence into multiple strings and return them in a list"
   ]
  },
  {
   "cell_type": "code",
   "execution_count": 9,
   "id": "7bbb1faa",
   "metadata": {},
   "outputs": [
    {
     "data": {
      "text/plain": [
       "'There-can-only-one.'"
      ]
     },
     "execution_count": 9,
     "metadata": {},
     "output_type": "execute_result"
    }
   ],
   "source": [
    "'-'.join('There can only one.'.split())"
   ]
  },
  {
   "cell_type": "markdown",
   "id": "5f62547c",
   "metadata": {},
   "source": [
    "python has numerous striking functions join is one of them. join is a function use for iterating elements and sepearte them with string and even further we can split using diffternt expressions."
   ]
  },
  {
   "cell_type": "markdown",
   "id": "9d73626d",
   "metadata": {},
   "source": [
    "9.What are the methods for right-justifying, left-justifying, and centering a string?"
   ]
  },
  {
   "cell_type": "code",
   "execution_count": 11,
   "id": "09d036db",
   "metadata": {},
   "outputs": [],
   "source": [
    "ls = \"I am Shashi\""
   ]
  },
  {
   "cell_type": "code",
   "execution_count": 15,
   "id": "1afa2ef4",
   "metadata": {},
   "outputs": [
    {
     "data": {
      "text/plain": [
       "'---------I am Shashi'"
      ]
     },
     "execution_count": 15,
     "metadata": {},
     "output_type": "execute_result"
    }
   ],
   "source": [
    "ls.rjust(20,'-')"
   ]
  },
  {
   "cell_type": "code",
   "execution_count": 18,
   "id": "df33792d",
   "metadata": {},
   "outputs": [
    {
     "data": {
      "text/plain": [
       "'I am Shashi*********'"
      ]
     },
     "execution_count": 18,
     "metadata": {},
     "output_type": "execute_result"
    }
   ],
   "source": [
    "ls.ljust(20,'*')"
   ]
  },
  {
   "cell_type": "code",
   "execution_count": 19,
   "id": "f7d74131",
   "metadata": {},
   "outputs": [
    {
     "data": {
      "text/plain": [
       "'^^^^I am Shashi^^^^^'"
      ]
     },
     "execution_count": 19,
     "metadata": {},
     "output_type": "execute_result"
    }
   ],
   "source": [
    "ls.center(20,'^')"
   ]
  },
  {
   "cell_type": "markdown",
   "id": "111a39f9",
   "metadata": {},
   "source": [
    "Above functions are alignments of right,left and center of a string with decorating of filling the character which is given as a parameter. those finctions are rjust,ljust and center...."
   ]
  },
  {
   "cell_type": "markdown",
   "id": "23b45ab9",
   "metadata": {},
   "source": [
    "10.What is the best way to remove whitespace characters from the start or end?"
   ]
  },
  {
   "cell_type": "code",
   "execution_count": 6,
   "id": "934404e6",
   "metadata": {},
   "outputs": [
    {
     "data": {
      "text/plain": [
       "'   shashi   '"
      ]
     },
     "execution_count": 6,
     "metadata": {},
     "output_type": "execute_result"
    }
   ],
   "source": [
    "l = \"   shashi   \"\n",
    "l"
   ]
  },
  {
   "cell_type": "code",
   "execution_count": 7,
   "id": "3645dfbf",
   "metadata": {},
   "outputs": [
    {
     "data": {
      "text/plain": [
       "'shashi   '"
      ]
     },
     "execution_count": 7,
     "metadata": {},
     "output_type": "execute_result"
    }
   ],
   "source": [
    "l.lstrip()"
   ]
  },
  {
   "cell_type": "code",
   "execution_count": 8,
   "id": "707f26e8",
   "metadata": {},
   "outputs": [
    {
     "data": {
      "text/plain": [
       "'   shashi'"
      ]
     },
     "execution_count": 8,
     "metadata": {},
     "output_type": "execute_result"
    }
   ],
   "source": [
    "l.rstrip()"
   ]
  },
  {
   "cell_type": "code",
   "execution_count": 9,
   "id": "a350a0bf",
   "metadata": {},
   "outputs": [
    {
     "data": {
      "text/plain": [
       "'shashi'"
      ]
     },
     "execution_count": 9,
     "metadata": {},
     "output_type": "execute_result"
    }
   ],
   "source": [
    "l.strip()"
   ]
  },
  {
   "cell_type": "markdown",
   "id": "1bb2113d",
   "metadata": {},
   "source": [
    "removing whitespace is a bit easy in python with inbuilt functions as lstrip,rstrip and strip these functions remove the whitespace and algn the string in a given order.."
   ]
  }
 ],
 "metadata": {
  "kernelspec": {
   "display_name": "Python 3 (ipykernel)",
   "language": "python",
   "name": "python3"
  },
  "language_info": {
   "codemirror_mode": {
    "name": "ipython",
    "version": 3
   },
   "file_extension": ".py",
   "mimetype": "text/x-python",
   "name": "python",
   "nbconvert_exporter": "python",
   "pygments_lexer": "ipython3",
   "version": "3.9.7"
  }
 },
 "nbformat": 4,
 "nbformat_minor": 5
}
