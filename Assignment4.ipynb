{
 "cells": [
  {
   "cell_type": "markdown",
   "id": "176c65bd",
   "metadata": {},
   "source": [
    "# ASSIGNMENT-4"
   ]
  },
  {
   "cell_type": "markdown",
   "id": "6ac77631",
   "metadata": {},
   "source": [
    "1.What exactly is []?"
   ]
  },
  {
   "cell_type": "markdown",
   "id": "e21d5806",
   "metadata": {},
   "source": [
    "it is called an empty list"
   ]
  },
  {
   "cell_type": "markdown",
   "id": "ff07809b",
   "metadata": {},
   "source": [
    "2.In a list of values stored in a variable called spam, how would you assign the value 'hello' as the third value? (Assume [2, 4, 6, 8, 10] are in spam.)"
   ]
  },
  {
   "cell_type": "code",
   "execution_count": 2,
   "id": "81594055",
   "metadata": {},
   "outputs": [
    {
     "data": {
      "text/plain": [
       "[2, 4, 6, 'Hello', 10]"
      ]
     },
     "execution_count": 2,
     "metadata": {},
     "output_type": "execute_result"
    }
   ],
   "source": [
    "spam = [2,4,6,8,10]\n",
    "spam[3] = \"Hello\"\n",
    "spam"
   ]
  },
  {
   "cell_type": "markdown",
   "id": "5d0040dc",
   "metadata": {},
   "source": [
    "Let's pretend the spam includes the list ['a', 'b', 'c', 'd'] for the next three queries."
   ]
  },
  {
   "cell_type": "markdown",
   "id": "d537e50f",
   "metadata": {},
   "source": [
    "3.What is the value of spam[int(int('3' * 2) / 11)]?"
   ]
  },
  {
   "cell_type": "code",
   "execution_count": 5,
   "id": "8b7e9487",
   "metadata": {},
   "outputs": [],
   "source": [
    "spam.append(['a','b','c','d'])"
   ]
  },
  {
   "cell_type": "code",
   "execution_count": 6,
   "id": "9b6906a5",
   "metadata": {},
   "outputs": [
    {
     "data": {
      "text/plain": [
       "'Hello'"
      ]
     },
     "execution_count": 6,
     "metadata": {},
     "output_type": "execute_result"
    }
   ],
   "source": [
    "spam[int(int('3' * 2) / 11)]"
   ]
  },
  {
   "cell_type": "code",
   "execution_count": 7,
   "id": "c0f394c4",
   "metadata": {},
   "outputs": [
    {
     "data": {
      "text/plain": [
       "[2, 4, 6, 'Hello', 10, ['a', 'b', 'c', 'd']]"
      ]
     },
     "execution_count": 7,
     "metadata": {},
     "output_type": "execute_result"
    }
   ],
   "source": [
    "spam"
   ]
  },
  {
   "cell_type": "markdown",
   "id": "2f21c6c8",
   "metadata": {},
   "source": [
    "4.What is the value of spam[-1]?"
   ]
  },
  {
   "cell_type": "code",
   "execution_count": 8,
   "id": "711b7d6e",
   "metadata": {},
   "outputs": [
    {
     "data": {
      "text/plain": [
       "['a', 'b', 'c', 'd']"
      ]
     },
     "execution_count": 8,
     "metadata": {},
     "output_type": "execute_result"
    }
   ],
   "source": [
    "spam[-1]  # the value -1 represents the last value of the list"
   ]
  },
  {
   "cell_type": "markdown",
   "id": "02023412",
   "metadata": {},
   "source": [
    "5.What is the value of spam[:2]?"
   ]
  },
  {
   "cell_type": "code",
   "execution_count": 9,
   "id": "38dcba4b",
   "metadata": {},
   "outputs": [
    {
     "data": {
      "text/plain": [
       "[2, 4]"
      ]
     },
     "execution_count": 9,
     "metadata": {},
     "output_type": "execute_result"
    }
   ],
   "source": [
    "spam[:2]"
   ]
  },
  {
   "cell_type": "markdown",
   "id": "21dd7a90",
   "metadata": {},
   "source": [
    "the above function is slicing operation when we use :2 it starts with the first element to the 2 element in the list"
   ]
  },
  {
   "cell_type": "markdown",
   "id": "5de345bc",
   "metadata": {},
   "source": [
    "Let's pretend bacon has the list [3.14, 'cat,' 11, 'cat,' True] for the next three questions."
   ]
  },
  {
   "cell_type": "code",
   "execution_count": 12,
   "id": "8edff305",
   "metadata": {},
   "outputs": [],
   "source": [
    "bacon = [3.14, 'cat', 11, 'cat', True]"
   ]
  },
  {
   "cell_type": "markdown",
   "id": "0f0f8cea",
   "metadata": {},
   "source": [
    "6.What is the value of bacon.index('cat')?"
   ]
  },
  {
   "cell_type": "code",
   "execution_count": 13,
   "id": "1812b3d5",
   "metadata": {},
   "outputs": [
    {
     "data": {
      "text/plain": [
       "1"
      ]
     },
     "execution_count": 13,
     "metadata": {},
     "output_type": "execute_result"
    }
   ],
   "source": [
    "bacon.index(\"cat\")"
   ]
  },
  {
   "cell_type": "markdown",
   "id": "c0e3bffb",
   "metadata": {},
   "source": [
    "7.How does bacon.append(99) change the look of the list value in bacon?"
   ]
  },
  {
   "cell_type": "code",
   "execution_count": 14,
   "id": "932f04e9",
   "metadata": {},
   "outputs": [],
   "source": [
    "bacon.append(99)"
   ]
  },
  {
   "cell_type": "code",
   "execution_count": 15,
   "id": "9978961b",
   "metadata": {},
   "outputs": [
    {
     "data": {
      "text/plain": [
       "[3.14, 'cat', 11, 'cat', True, 99]"
      ]
     },
     "execution_count": 15,
     "metadata": {},
     "output_type": "execute_result"
    }
   ],
   "source": [
    "bacon"
   ]
  },
  {
   "cell_type": "markdown",
   "id": "346eb788",
   "metadata": {},
   "source": [
    "8.How does bacon.remove('cat') change the look of the list in bacon?"
   ]
  },
  {
   "cell_type": "code",
   "execution_count": 16,
   "id": "582d6e42",
   "metadata": {},
   "outputs": [],
   "source": [
    "bacon.remove('cat')"
   ]
  },
  {
   "cell_type": "code",
   "execution_count": 17,
   "id": "7a4f55b0",
   "metadata": {},
   "outputs": [
    {
     "data": {
      "text/plain": [
       "[3.14, 11, 'cat', True, 99]"
      ]
     },
     "execution_count": 17,
     "metadata": {},
     "output_type": "execute_result"
    }
   ],
   "source": [
    "bacon"
   ]
  },
  {
   "cell_type": "markdown",
   "id": "a88bcd55",
   "metadata": {},
   "source": [
    "9.What are the list concatenation and list replication operators?"
   ]
  },
  {
   "cell_type": "code",
   "execution_count": 18,
   "id": "f9385077",
   "metadata": {},
   "outputs": [],
   "source": [
    "concat = spam + bacon"
   ]
  },
  {
   "cell_type": "code",
   "execution_count": 19,
   "id": "c619653b",
   "metadata": {},
   "outputs": [
    {
     "data": {
      "text/plain": [
       "[2, 4, 6, 'Hello', 10, ['a', 'b', 'c', 'd'], 3.14, 11, 'cat', True, 99]"
      ]
     },
     "execution_count": 19,
     "metadata": {},
     "output_type": "execute_result"
    }
   ],
   "source": [
    "concat"
   ]
  },
  {
   "cell_type": "markdown",
   "id": "2ffa4ac6",
   "metadata": {},
   "source": [
    "the above two lists concatenated each other and the result will be a single list "
   ]
  },
  {
   "cell_type": "code",
   "execution_count": 20,
   "id": "941677df",
   "metadata": {},
   "outputs": [
    {
     "data": {
      "text/plain": [
       "[2,\n",
       " 4,\n",
       " 6,\n",
       " 'Hello',\n",
       " 10,\n",
       " ['a', 'b', 'c', 'd'],\n",
       " 3.14,\n",
       " 11,\n",
       " 'cat',\n",
       " True,\n",
       " 99,\n",
       " 2,\n",
       " 4,\n",
       " 6,\n",
       " 'Hello',\n",
       " 10,\n",
       " ['a', 'b', 'c', 'd'],\n",
       " 3.14,\n",
       " 11,\n",
       " 'cat',\n",
       " True,\n",
       " 99]"
      ]
     },
     "execution_count": 20,
     "metadata": {},
     "output_type": "execute_result"
    }
   ],
   "source": [
    "concat * 2"
   ]
  },
  {
   "cell_type": "markdown",
   "id": "27b5bdd8",
   "metadata": {},
   "source": [
    "list replicator is not copying here but it smply replicates the reference to the items"
   ]
  },
  {
   "cell_type": "markdown",
   "id": "92016058",
   "metadata": {},
   "source": [
    "10.What is difference between the list methods append() and insert()?"
   ]
  },
  {
   "cell_type": "code",
   "execution_count": 21,
   "id": "5c25b559",
   "metadata": {},
   "outputs": [],
   "source": [
    "spam.append(\"iNeuron\")"
   ]
  },
  {
   "cell_type": "code",
   "execution_count": 22,
   "id": "0e01d0ca",
   "metadata": {},
   "outputs": [
    {
     "data": {
      "text/plain": [
       "[2, 4, 6, 'Hello', 10, ['a', 'b', 'c', 'd'], 'iNeuron']"
      ]
     },
     "execution_count": 22,
     "metadata": {},
     "output_type": "execute_result"
    }
   ],
   "source": [
    "spam"
   ]
  },
  {
   "cell_type": "code",
   "execution_count": 25,
   "id": "de3bda22",
   "metadata": {},
   "outputs": [],
   "source": [
    "spam.insert(1,\"iNeuron\")"
   ]
  },
  {
   "cell_type": "code",
   "execution_count": 26,
   "id": "2eb59298",
   "metadata": {},
   "outputs": [
    {
     "data": {
      "text/plain": [
       "[2, 'iNeuron', 4, 6, 'Hello', 10, ['a', 'b', 'c', 'd'], 'iNeuron']"
      ]
     },
     "execution_count": 26,
     "metadata": {},
     "output_type": "execute_result"
    }
   ],
   "source": [
    "spam"
   ]
  },
  {
   "cell_type": "markdown",
   "id": "0e055ce0",
   "metadata": {},
   "source": [
    "append and insert are both includes the elements into list but the fundamental difference is append can push element into a the last index of the list the otherhand insert will inserting the elements in a desired positions using index position.."
   ]
  },
  {
   "cell_type": "markdown",
   "id": "225e997f",
   "metadata": {},
   "source": [
    "11.What are the two methods for removing items from a list?"
   ]
  },
  {
   "cell_type": "code",
   "execution_count": 41,
   "id": "1939289f",
   "metadata": {},
   "outputs": [
    {
     "data": {
      "text/plain": [
       "[2, 4, 6, 'Hello', 10, 'iNeuron', ['a', 'b', 'c', 'd']]"
      ]
     },
     "execution_count": 41,
     "metadata": {},
     "output_type": "execute_result"
    }
   ],
   "source": [
    "spam"
   ]
  },
  {
   "cell_type": "code",
   "execution_count": 42,
   "id": "f08d1d6e",
   "metadata": {},
   "outputs": [],
   "source": [
    "spam.remove(\"iNeuron\")"
   ]
  },
  {
   "cell_type": "code",
   "execution_count": 43,
   "id": "0dfd5946",
   "metadata": {},
   "outputs": [
    {
     "data": {
      "text/plain": [
       "[2, 4, 6, 'Hello', 10, ['a', 'b', 'c', 'd']]"
      ]
     },
     "execution_count": 43,
     "metadata": {},
     "output_type": "execute_result"
    }
   ],
   "source": [
    "spam"
   ]
  },
  {
   "cell_type": "code",
   "execution_count": 44,
   "id": "197065d1",
   "metadata": {},
   "outputs": [
    {
     "data": {
      "text/plain": [
       "['a', 'b', 'c', 'd']"
      ]
     },
     "execution_count": 44,
     "metadata": {},
     "output_type": "execute_result"
    }
   ],
   "source": [
    "spam.pop()"
   ]
  },
  {
   "cell_type": "code",
   "execution_count": 45,
   "id": "2c8a2c73",
   "metadata": {},
   "outputs": [
    {
     "data": {
      "text/plain": [
       "[2, 4, 6, 'Hello', 10]"
      ]
     },
     "execution_count": 45,
     "metadata": {},
     "output_type": "execute_result"
    }
   ],
   "source": [
    "spam"
   ]
  },
  {
   "cell_type": "markdown",
   "id": "c63790d6",
   "metadata": {},
   "source": [
    "both remove and pop eliminate the elements from the list but remove works with a clear calling of an element to remove the otherhand pop removes and returns the last value in the list"
   ]
  },
  {
   "cell_type": "markdown",
   "id": "56dc0328",
   "metadata": {},
   "source": [
    "12.Describe how list values and string values are identical."
   ]
  },
  {
   "cell_type": "code",
   "execution_count": 48,
   "id": "9c840bb7",
   "metadata": {},
   "outputs": [],
   "source": [
    "s = \"shashi\",\"1,2,3,4\",\"iNeuron\"\n",
    "l = [\"shashi\",1,2,3,4,\"iNeuron\"]"
   ]
  },
  {
   "cell_type": "code",
   "execution_count": 58,
   "id": "f440e79e",
   "metadata": {},
   "outputs": [
    {
     "data": {
      "text/plain": [
       "('shashi', '1,2,3,4', 'iNeuron')"
      ]
     },
     "execution_count": 58,
     "metadata": {},
     "output_type": "execute_result"
    }
   ],
   "source": [
    "s"
   ]
  },
  {
   "cell_type": "code",
   "execution_count": 49,
   "id": "89195a28",
   "metadata": {},
   "outputs": [
    {
     "data": {
      "text/plain": [
       "['shashi', 1, 2, 3, 4, 'iNeuron']"
      ]
     },
     "execution_count": 49,
     "metadata": {},
     "output_type": "execute_result"
    }
   ],
   "source": [
    "l"
   ]
  },
  {
   "cell_type": "code",
   "execution_count": 53,
   "id": "f7584c48",
   "metadata": {},
   "outputs": [
    {
     "ename": "TypeError",
     "evalue": "'tuple' object does not support item assignment",
     "output_type": "error",
     "traceback": [
      "\u001b[1;31m---------------------------------------------------------------------------\u001b[0m",
      "\u001b[1;31mTypeError\u001b[0m                                 Traceback (most recent call last)",
      "\u001b[1;32m~\\AppData\\Local\\Temp/ipykernel_20256/2474516706.py\u001b[0m in \u001b[0;36m<module>\u001b[1;34m\u001b[0m\n\u001b[1;32m----> 1\u001b[1;33m \u001b[0ms\u001b[0m\u001b[1;33m[\u001b[0m\u001b[1;36m1\u001b[0m\u001b[1;33m]\u001b[0m \u001b[1;33m=\u001b[0m \u001b[1;34m\"just\"\u001b[0m\u001b[1;33m\u001b[0m\u001b[1;33m\u001b[0m\u001b[0m\n\u001b[0m",
      "\u001b[1;31mTypeError\u001b[0m: 'tuple' object does not support item assignment"
     ]
    }
   ],
   "source": [
    "s[1] = \"just\""
   ]
  },
  {
   "cell_type": "code",
   "execution_count": 54,
   "id": "b33b6d96",
   "metadata": {},
   "outputs": [
    {
     "data": {
      "text/plain": [
       "['shashi', 'just', 2, 3, 4, 'iNeuron']"
      ]
     },
     "execution_count": 54,
     "metadata": {},
     "output_type": "execute_result"
    }
   ],
   "source": [
    "l[1] =\"just\"\n",
    "l"
   ]
  },
  {
   "cell_type": "markdown",
   "id": "85ba769d",
   "metadata": {},
   "source": [
    "both strings and list seems to be the same but the nature of these both different for example the mutability of a string cannot be performed due to the tuple holding nature and lists are highly mutable you can assign or change the values of the existing lists"
   ]
  },
  {
   "cell_type": "markdown",
   "id": "487aadbb",
   "metadata": {},
   "source": [
    "13.What's the difference between tuples and lists?"
   ]
  },
  {
   "cell_type": "code",
   "execution_count": 43,
   "id": "66d673bf",
   "metadata": {},
   "outputs": [],
   "source": [
    "t = (\"shashi\",1,2,3,4,\"iNeuron\")"
   ]
  },
  {
   "cell_type": "code",
   "execution_count": 44,
   "id": "4ff00c53",
   "metadata": {},
   "outputs": [
    {
     "data": {
      "text/plain": [
       "('shashi', 1, 2, 3, 4, 'iNeuron')"
      ]
     },
     "execution_count": 44,
     "metadata": {},
     "output_type": "execute_result"
    }
   ],
   "source": [
    "t"
   ]
  },
  {
   "cell_type": "code",
   "execution_count": 61,
   "id": "9fb4135c",
   "metadata": {},
   "outputs": [
    {
     "data": {
      "text/plain": [
       "['shashi', 1, 2, 3, 4, 'iNeuron']"
      ]
     },
     "execution_count": 61,
     "metadata": {},
     "output_type": "execute_result"
    }
   ],
   "source": [
    "l"
   ]
  },
  {
   "cell_type": "code",
   "execution_count": 46,
   "id": "fe11798c",
   "metadata": {},
   "outputs": [
    {
     "ename": "TypeError",
     "evalue": "'tuple' object does not support item assignment",
     "output_type": "error",
     "traceback": [
      "\u001b[1;31m---------------------------------------------------------------------------\u001b[0m",
      "\u001b[1;31mTypeError\u001b[0m                                 Traceback (most recent call last)",
      "\u001b[1;32m~\\AppData\\Local\\Temp/ipykernel_20256/622242301.py\u001b[0m in \u001b[0;36m<module>\u001b[1;34m\u001b[0m\n\u001b[1;32m----> 1\u001b[1;33m \u001b[0mt\u001b[0m\u001b[1;33m[\u001b[0m\u001b[1;36m1\u001b[0m\u001b[1;33m]\u001b[0m \u001b[1;33m=\u001b[0m \u001b[1;34m\"phD\"\u001b[0m\u001b[1;33m\u001b[0m\u001b[1;33m\u001b[0m\u001b[0m\n\u001b[0m",
      "\u001b[1;31mTypeError\u001b[0m: 'tuple' object does not support item assignment"
     ]
    }
   ],
   "source": [
    "t[1] = \"phD\"  "
   ]
  },
  {
   "cell_type": "code",
   "execution_count": 51,
   "id": "4eb4acf6",
   "metadata": {},
   "outputs": [
    {
     "data": {
      "text/plain": [
       "['shashi', 'phD', 2, 3, 4, 'iNeuron']"
      ]
     },
     "execution_count": 51,
     "metadata": {},
     "output_type": "execute_result"
    }
   ],
   "source": [
    "l[1]=\"phD\"\n",
    "l"
   ]
  },
  {
   "cell_type": "markdown",
   "id": "0096d602",
   "metadata": {},
   "source": [
    "tuple is not mutable whereas the list can be mutated as we asign any value to the existing element in the list this is the major difference between tuple and list"
   ]
  },
  {
   "cell_type": "markdown",
   "id": "4517bab2",
   "metadata": {},
   "source": [
    "14.How do you type a tuple value that only contains the integer 42?"
   ]
  },
  {
   "cell_type": "code",
   "execution_count": 69,
   "id": "5c021785",
   "metadata": {},
   "outputs": [],
   "source": [
    "l1 = [42]"
   ]
  },
  {
   "cell_type": "code",
   "execution_count": 71,
   "id": "6bed3619",
   "metadata": {},
   "outputs": [],
   "source": [
    "t1 = tuple(l1)"
   ]
  },
  {
   "cell_type": "code",
   "execution_count": 72,
   "id": "36244003",
   "metadata": {},
   "outputs": [
    {
     "data": {
      "text/plain": [
       "tuple"
      ]
     },
     "execution_count": 72,
     "metadata": {},
     "output_type": "execute_result"
    }
   ],
   "source": [
    "type(t1)"
   ]
  },
  {
   "cell_type": "code",
   "execution_count": 73,
   "id": "87e5ef73",
   "metadata": {},
   "outputs": [
    {
     "data": {
      "text/plain": [
       "(42,)"
      ]
     },
     "execution_count": 73,
     "metadata": {},
     "output_type": "execute_result"
    }
   ],
   "source": [
    "t1"
   ]
  },
  {
   "cell_type": "markdown",
   "id": "bfbc5930",
   "metadata": {},
   "source": [
    "the single integer in a tuple will be expressed itself as int so we can convert it from the list to tuple as above mentioned.."
   ]
  },
  {
   "cell_type": "markdown",
   "id": "34c5925c",
   "metadata": {},
   "source": [
    "15.How do you get a list value's tuple form? How do you get a tuple value's list form?"
   ]
  },
  {
   "cell_type": "code",
   "execution_count": 38,
   "id": "746c8553",
   "metadata": {},
   "outputs": [],
   "source": [
    "t2 = (\"shashi\", 1,2,3,4,\"iNeuron\") #Tuple form"
   ]
  },
  {
   "cell_type": "code",
   "execution_count": 39,
   "id": "9dc7067d",
   "metadata": {},
   "outputs": [],
   "source": [
    "l2 = [\"shashi\", 1,2,3,4, \"iNeuron\"] #List form"
   ]
  },
  {
   "cell_type": "code",
   "execution_count": 76,
   "id": "f37fc208",
   "metadata": {},
   "outputs": [
    {
     "data": {
      "text/plain": [
       "('shashi', 1, 2, 3, 4, 'iNeuron')"
      ]
     },
     "execution_count": 76,
     "metadata": {},
     "output_type": "execute_result"
    }
   ],
   "source": [
    "tuple(l2) #Tuple form convert into list"
   ]
  },
  {
   "cell_type": "code",
   "execution_count": 77,
   "id": "a9d26349",
   "metadata": {},
   "outputs": [
    {
     "data": {
      "text/plain": [
       "['shashi', 1, 2, 3, 4, 'iNeuron']"
      ]
     },
     "execution_count": 77,
     "metadata": {},
     "output_type": "execute_result"
    }
   ],
   "source": [
    "list(t2) #list form convert into tuple"
   ]
  },
  {
   "cell_type": "markdown",
   "id": "d48ce9d5",
   "metadata": {},
   "source": [
    "as above forms we can change the data types as convenient..."
   ]
  },
  {
   "cell_type": "markdown",
   "id": "1a7e97a8",
   "metadata": {},
   "source": [
    "16.Variables that \"contain\" list values are not necessarily lists themselves. Instead, what do they contain?"
   ]
  },
  {
   "cell_type": "code",
   "execution_count": 40,
   "id": "7a65c283",
   "metadata": {},
   "outputs": [],
   "source": [
    "listr = \"I am Learning Python\"\n",
    "dics = {\"Name\":\"Shashi\",\"Qualification\":\"PhD\"}\n",
    "\n",
    "lis = [2.5,\"shashi\", 1,2,3,4, \"iNeuron\",t2,(\"iNeuron\",\"Polity\"),listr,dics,{1,2,3}]"
   ]
  },
  {
   "cell_type": "code",
   "execution_count": 41,
   "id": "2b515fcf",
   "metadata": {},
   "outputs": [
    {
     "data": {
      "text/plain": [
       "[2.5,\n",
       " 'shashi',\n",
       " 1,\n",
       " 2,\n",
       " 3,\n",
       " 4,\n",
       " 'iNeuron',\n",
       " ('shashi', 1, 2, 3, 4, 'iNeuron'),\n",
       " ('iNeuron', 'Polity'),\n",
       " 'I am Learning Python',\n",
       " {'Name': 'Shashi', 'Qualification': 'PhD'},\n",
       " {1, 2, 3}]"
      ]
     },
     "execution_count": 41,
     "metadata": {},
     "output_type": "execute_result"
    }
   ],
   "source": [
    "lis"
   ]
  },
  {
   "cell_type": "markdown",
   "id": "93a1e700",
   "metadata": {},
   "source": [
    "in list we can have any data types such as strings, tuples, dictionaries, lists and even sets so thats indicates the inclusive nature of the list which it could able to hold.."
   ]
  },
  {
   "cell_type": "markdown",
   "id": "1f68042d",
   "metadata": {},
   "source": [
    "17.How do you distinguish between copy.copy() and copy.deepcopy()?"
   ]
  },
  {
   "cell_type": "code",
   "execution_count": 17,
   "id": "0078ed8c",
   "metadata": {},
   "outputs": [],
   "source": [
    "lis1 = [1,2,3,4,5]\n",
    "lis2 = lis1"
   ]
  },
  {
   "cell_type": "code",
   "execution_count": 18,
   "id": "067a65e1",
   "metadata": {},
   "outputs": [
    {
     "data": {
      "text/plain": [
       "[1, 2, 3, 4, 5]"
      ]
     },
     "execution_count": 18,
     "metadata": {},
     "output_type": "execute_result"
    }
   ],
   "source": [
    "lis2"
   ]
  },
  {
   "cell_type": "code",
   "execution_count": 19,
   "id": "c8b444eb",
   "metadata": {},
   "outputs": [
    {
     "data": {
      "text/plain": [
       "[1, 2, 3, 4, 5]"
      ]
     },
     "execution_count": 19,
     "metadata": {},
     "output_type": "execute_result"
    }
   ],
   "source": [
    "lis1"
   ]
  },
  {
   "cell_type": "code",
   "execution_count": 20,
   "id": "deb9e525",
   "metadata": {},
   "outputs": [],
   "source": [
    "lis2[1]=99"
   ]
  },
  {
   "cell_type": "code",
   "execution_count": 23,
   "id": "c7cebd15",
   "metadata": {},
   "outputs": [
    {
     "data": {
      "text/plain": [
       "([1, 99, 3, 4, 5], [1, 99, 3, 4, 5])"
      ]
     },
     "execution_count": 23,
     "metadata": {},
     "output_type": "execute_result"
    }
   ],
   "source": [
    "lis2,lis1"
   ]
  },
  {
   "cell_type": "markdown",
   "id": "c53c0d35",
   "metadata": {},
   "source": [
    "using = to operation, here above copying method for both memory locations are same so we can able to get the list same if changed in one list"
   ]
  },
  {
   "cell_type": "code",
   "execution_count": 24,
   "id": "fa492204",
   "metadata": {},
   "outputs": [],
   "source": [
    "lis1 = [1,2,3,4,5]\n",
    "lis2 = lis1.copy()"
   ]
  },
  {
   "cell_type": "code",
   "execution_count": 25,
   "id": "180a3f36",
   "metadata": {},
   "outputs": [],
   "source": [
    "lis2[1] = 99"
   ]
  },
  {
   "cell_type": "code",
   "execution_count": 28,
   "id": "8dbb72bb",
   "metadata": {},
   "outputs": [
    {
     "data": {
      "text/plain": [
       "([1, 99, 3, 4, 5], [1, 2, 3, 4, 5])"
      ]
     },
     "execution_count": 28,
     "metadata": {},
     "output_type": "execute_result"
    }
   ],
   "source": [
    "lis2,lis1"
   ]
  },
  {
   "cell_type": "markdown",
   "id": "dfd8f1c1",
   "metadata": {},
   "source": [
    "the difference is here in shallow copy the memory allocation is different when we use copy method thats why we can able too see the unchanged lis1 and changed lis2"
   ]
  },
  {
   "cell_type": "code",
   "execution_count": 30,
   "id": "45cf5982",
   "metadata": {},
   "outputs": [],
   "source": [
    "#for Deep copy we need to import copy module\n",
    "import copy\n",
    "liss = [[1,2,3],[4,5,6],[7,8,9]]\n",
    "liss1 = copy.deepcopy(liss)"
   ]
  },
  {
   "cell_type": "code",
   "execution_count": 34,
   "id": "98ea8730",
   "metadata": {},
   "outputs": [],
   "source": [
    "liss1[2][2]=1000"
   ]
  },
  {
   "cell_type": "code",
   "execution_count": 36,
   "id": "c643aa44",
   "metadata": {},
   "outputs": [
    {
     "data": {
      "text/plain": [
       "([[1, 2, 3], [4, 5, 6], [7, 8, 1000]], [[1, 2, 3], [4, 5, 6], [7, 8, 9]])"
      ]
     },
     "execution_count": 36,
     "metadata": {},
     "output_type": "execute_result"
    }
   ],
   "source": [
    "liss1,liss"
   ]
  },
  {
   "cell_type": "markdown",
   "id": "bdd165fb",
   "metadata": {},
   "source": [
    "being allocated in a different memory location we can not have the same updated values in both the list in deep copy.."
   ]
  }
 ],
 "metadata": {
  "kernelspec": {
   "display_name": "Python 3 (ipykernel)",
   "language": "python",
   "name": "python3"
  },
  "language_info": {
   "codemirror_mode": {
    "name": "ipython",
    "version": 3
   },
   "file_extension": ".py",
   "mimetype": "text/x-python",
   "name": "python",
   "nbconvert_exporter": "python",
   "pygments_lexer": "ipython3",
   "version": "3.9.7"
  }
 },
 "nbformat": 4,
 "nbformat_minor": 5
}
